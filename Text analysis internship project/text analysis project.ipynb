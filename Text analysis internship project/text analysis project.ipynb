{
 "cells": [
  {
   "cell_type": "code",
   "execution_count": 1,
   "id": "d3115800",
   "metadata": {},
   "outputs": [],
   "source": [
    "import numpy as np\n",
    "import pandas as pd\n",
    "import matplotlib.pyplot as plt\n",
    "import seaborn as sns\n",
    "from sklearn.model_selection import train_test_split, GridSearchCV\n",
    "from sklearn.preprocessing import StandardScaler\n",
    "from sklearn.linear_model import LogisticRegression\n",
    "from sklearn.tree import DecisionTreeClassifier\n",
    "from sklearn.ensemble import RandomForestClassifier, BaggingClassifier, AdaBoostClassifier\n",
    "from sklearn import metrics\n",
    "import pickle\n",
    "import warnings\n",
    "warnings.filterwarnings('ignore')"
   ]
  },
  {
   "cell_type": "code",
   "execution_count": 2,
   "id": "4ade4e1b",
   "metadata": {},
   "outputs": [],
   "source": [
    "train = pd.read_csv('train.csv')"
   ]
  },
  {
   "cell_type": "code",
   "execution_count": 3,
   "id": "502b019e",
   "metadata": {},
   "outputs": [],
   "source": [
    "test = pd.read_csv('test.csv')"
   ]
  },
  {
   "cell_type": "code",
   "execution_count": 4,
   "id": "0fe1874d",
   "metadata": {},
   "outputs": [
    {
     "data": {
      "text/html": [
       "<div>\n",
       "<style scoped>\n",
       "    .dataframe tbody tr th:only-of-type {\n",
       "        vertical-align: middle;\n",
       "    }\n",
       "\n",
       "    .dataframe tbody tr th {\n",
       "        vertical-align: top;\n",
       "    }\n",
       "\n",
       "    .dataframe thead th {\n",
       "        text-align: right;\n",
       "    }\n",
       "</style>\n",
       "<table border=\"1\" class=\"dataframe\">\n",
       "  <thead>\n",
       "    <tr style=\"text-align: right;\">\n",
       "      <th></th>\n",
       "      <th>id</th>\n",
       "      <th>comment_text</th>\n",
       "      <th>malignant</th>\n",
       "      <th>highly_malignant</th>\n",
       "      <th>rude</th>\n",
       "      <th>threat</th>\n",
       "      <th>abuse</th>\n",
       "      <th>loathe</th>\n",
       "    </tr>\n",
       "  </thead>\n",
       "  <tbody>\n",
       "    <tr>\n",
       "      <th>0</th>\n",
       "      <td>0000997932d777bf</td>\n",
       "      <td>Explanation\\nWhy the edits made under my usern...</td>\n",
       "      <td>0</td>\n",
       "      <td>0</td>\n",
       "      <td>0</td>\n",
       "      <td>0</td>\n",
       "      <td>0</td>\n",
       "      <td>0</td>\n",
       "    </tr>\n",
       "    <tr>\n",
       "      <th>1</th>\n",
       "      <td>000103f0d9cfb60f</td>\n",
       "      <td>D'aww! He matches this background colour I'm s...</td>\n",
       "      <td>0</td>\n",
       "      <td>0</td>\n",
       "      <td>0</td>\n",
       "      <td>0</td>\n",
       "      <td>0</td>\n",
       "      <td>0</td>\n",
       "    </tr>\n",
       "    <tr>\n",
       "      <th>2</th>\n",
       "      <td>000113f07ec002fd</td>\n",
       "      <td>Hey man, I'm really not trying to edit war. It...</td>\n",
       "      <td>0</td>\n",
       "      <td>0</td>\n",
       "      <td>0</td>\n",
       "      <td>0</td>\n",
       "      <td>0</td>\n",
       "      <td>0</td>\n",
       "    </tr>\n",
       "    <tr>\n",
       "      <th>3</th>\n",
       "      <td>0001b41b1c6bb37e</td>\n",
       "      <td>\"\\nMore\\nI can't make any real suggestions on ...</td>\n",
       "      <td>0</td>\n",
       "      <td>0</td>\n",
       "      <td>0</td>\n",
       "      <td>0</td>\n",
       "      <td>0</td>\n",
       "      <td>0</td>\n",
       "    </tr>\n",
       "    <tr>\n",
       "      <th>4</th>\n",
       "      <td>0001d958c54c6e35</td>\n",
       "      <td>You, sir, are my hero. Any chance you remember...</td>\n",
       "      <td>0</td>\n",
       "      <td>0</td>\n",
       "      <td>0</td>\n",
       "      <td>0</td>\n",
       "      <td>0</td>\n",
       "      <td>0</td>\n",
       "    </tr>\n",
       "  </tbody>\n",
       "</table>\n",
       "</div>"
      ],
      "text/plain": [
       "                 id                                       comment_text  \\\n",
       "0  0000997932d777bf  Explanation\\nWhy the edits made under my usern...   \n",
       "1  000103f0d9cfb60f  D'aww! He matches this background colour I'm s...   \n",
       "2  000113f07ec002fd  Hey man, I'm really not trying to edit war. It...   \n",
       "3  0001b41b1c6bb37e  \"\\nMore\\nI can't make any real suggestions on ...   \n",
       "4  0001d958c54c6e35  You, sir, are my hero. Any chance you remember...   \n",
       "\n",
       "   malignant  highly_malignant  rude  threat  abuse  loathe  \n",
       "0          0                 0     0       0      0       0  \n",
       "1          0                 0     0       0      0       0  \n",
       "2          0                 0     0       0      0       0  \n",
       "3          0                 0     0       0      0       0  \n",
       "4          0                 0     0       0      0       0  "
      ]
     },
     "execution_count": 4,
     "metadata": {},
     "output_type": "execute_result"
    }
   ],
   "source": [
    "train.head()"
   ]
  },
  {
   "cell_type": "code",
   "execution_count": 5,
   "id": "7c517838",
   "metadata": {},
   "outputs": [
    {
     "data": {
      "text/html": [
       "<div>\n",
       "<style scoped>\n",
       "    .dataframe tbody tr th:only-of-type {\n",
       "        vertical-align: middle;\n",
       "    }\n",
       "\n",
       "    .dataframe tbody tr th {\n",
       "        vertical-align: top;\n",
       "    }\n",
       "\n",
       "    .dataframe thead th {\n",
       "        text-align: right;\n",
       "    }\n",
       "</style>\n",
       "<table border=\"1\" class=\"dataframe\">\n",
       "  <thead>\n",
       "    <tr style=\"text-align: right;\">\n",
       "      <th></th>\n",
       "      <th>id</th>\n",
       "      <th>comment_text</th>\n",
       "    </tr>\n",
       "  </thead>\n",
       "  <tbody>\n",
       "    <tr>\n",
       "      <th>0</th>\n",
       "      <td>00001cee341fdb12</td>\n",
       "      <td>Yo bitch Ja Rule is more succesful then you'll...</td>\n",
       "    </tr>\n",
       "    <tr>\n",
       "      <th>1</th>\n",
       "      <td>0000247867823ef7</td>\n",
       "      <td>== From RfC == \\n\\n The title is fine as it is...</td>\n",
       "    </tr>\n",
       "    <tr>\n",
       "      <th>2</th>\n",
       "      <td>00013b17ad220c46</td>\n",
       "      <td>\" \\n\\n == Sources == \\n\\n * Zawe Ashton on Lap...</td>\n",
       "    </tr>\n",
       "    <tr>\n",
       "      <th>3</th>\n",
       "      <td>00017563c3f7919a</td>\n",
       "      <td>:If you have a look back at the source, the in...</td>\n",
       "    </tr>\n",
       "    <tr>\n",
       "      <th>4</th>\n",
       "      <td>00017695ad8997eb</td>\n",
       "      <td>I don't anonymously edit articles at all.</td>\n",
       "    </tr>\n",
       "  </tbody>\n",
       "</table>\n",
       "</div>"
      ],
      "text/plain": [
       "                 id                                       comment_text\n",
       "0  00001cee341fdb12  Yo bitch Ja Rule is more succesful then you'll...\n",
       "1  0000247867823ef7  == From RfC == \\n\\n The title is fine as it is...\n",
       "2  00013b17ad220c46  \" \\n\\n == Sources == \\n\\n * Zawe Ashton on Lap...\n",
       "3  00017563c3f7919a  :If you have a look back at the source, the in...\n",
       "4  00017695ad8997eb          I don't anonymously edit articles at all."
      ]
     },
     "execution_count": 5,
     "metadata": {},
     "output_type": "execute_result"
    }
   ],
   "source": [
    "test.head()"
   ]
  },
  {
   "cell_type": "code",
   "execution_count": 6,
   "id": "3cb6be7c",
   "metadata": {},
   "outputs": [
    {
     "data": {
      "text/plain": [
       "(159571, 8)"
      ]
     },
     "execution_count": 6,
     "metadata": {},
     "output_type": "execute_result"
    }
   ],
   "source": [
    "train.shape"
   ]
  },
  {
   "cell_type": "code",
   "execution_count": 7,
   "id": "8fdc7eae",
   "metadata": {},
   "outputs": [
    {
     "data": {
      "text/html": [
       "<div>\n",
       "<style scoped>\n",
       "    .dataframe tbody tr th:only-of-type {\n",
       "        vertical-align: middle;\n",
       "    }\n",
       "\n",
       "    .dataframe tbody tr th {\n",
       "        vertical-align: top;\n",
       "    }\n",
       "\n",
       "    .dataframe thead th {\n",
       "        text-align: right;\n",
       "    }\n",
       "</style>\n",
       "<table border=\"1\" class=\"dataframe\">\n",
       "  <thead>\n",
       "    <tr style=\"text-align: right;\">\n",
       "      <th></th>\n",
       "      <th>malignant</th>\n",
       "      <th>highly_malignant</th>\n",
       "      <th>rude</th>\n",
       "      <th>threat</th>\n",
       "      <th>abuse</th>\n",
       "      <th>loathe</th>\n",
       "    </tr>\n",
       "  </thead>\n",
       "  <tbody>\n",
       "    <tr>\n",
       "      <th>count</th>\n",
       "      <td>159571.000000</td>\n",
       "      <td>159571.000000</td>\n",
       "      <td>159571.000000</td>\n",
       "      <td>159571.000000</td>\n",
       "      <td>159571.000000</td>\n",
       "      <td>159571.000000</td>\n",
       "    </tr>\n",
       "    <tr>\n",
       "      <th>mean</th>\n",
       "      <td>0.095844</td>\n",
       "      <td>0.009996</td>\n",
       "      <td>0.052948</td>\n",
       "      <td>0.002996</td>\n",
       "      <td>0.049364</td>\n",
       "      <td>0.008805</td>\n",
       "    </tr>\n",
       "    <tr>\n",
       "      <th>std</th>\n",
       "      <td>0.294379</td>\n",
       "      <td>0.099477</td>\n",
       "      <td>0.223931</td>\n",
       "      <td>0.054650</td>\n",
       "      <td>0.216627</td>\n",
       "      <td>0.093420</td>\n",
       "    </tr>\n",
       "    <tr>\n",
       "      <th>min</th>\n",
       "      <td>0.000000</td>\n",
       "      <td>0.000000</td>\n",
       "      <td>0.000000</td>\n",
       "      <td>0.000000</td>\n",
       "      <td>0.000000</td>\n",
       "      <td>0.000000</td>\n",
       "    </tr>\n",
       "    <tr>\n",
       "      <th>25%</th>\n",
       "      <td>0.000000</td>\n",
       "      <td>0.000000</td>\n",
       "      <td>0.000000</td>\n",
       "      <td>0.000000</td>\n",
       "      <td>0.000000</td>\n",
       "      <td>0.000000</td>\n",
       "    </tr>\n",
       "    <tr>\n",
       "      <th>50%</th>\n",
       "      <td>0.000000</td>\n",
       "      <td>0.000000</td>\n",
       "      <td>0.000000</td>\n",
       "      <td>0.000000</td>\n",
       "      <td>0.000000</td>\n",
       "      <td>0.000000</td>\n",
       "    </tr>\n",
       "    <tr>\n",
       "      <th>75%</th>\n",
       "      <td>0.000000</td>\n",
       "      <td>0.000000</td>\n",
       "      <td>0.000000</td>\n",
       "      <td>0.000000</td>\n",
       "      <td>0.000000</td>\n",
       "      <td>0.000000</td>\n",
       "    </tr>\n",
       "    <tr>\n",
       "      <th>max</th>\n",
       "      <td>1.000000</td>\n",
       "      <td>1.000000</td>\n",
       "      <td>1.000000</td>\n",
       "      <td>1.000000</td>\n",
       "      <td>1.000000</td>\n",
       "      <td>1.000000</td>\n",
       "    </tr>\n",
       "  </tbody>\n",
       "</table>\n",
       "</div>"
      ],
      "text/plain": [
       "           malignant  highly_malignant           rude         threat  \\\n",
       "count  159571.000000     159571.000000  159571.000000  159571.000000   \n",
       "mean        0.095844          0.009996       0.052948       0.002996   \n",
       "std         0.294379          0.099477       0.223931       0.054650   \n",
       "min         0.000000          0.000000       0.000000       0.000000   \n",
       "25%         0.000000          0.000000       0.000000       0.000000   \n",
       "50%         0.000000          0.000000       0.000000       0.000000   \n",
       "75%         0.000000          0.000000       0.000000       0.000000   \n",
       "max         1.000000          1.000000       1.000000       1.000000   \n",
       "\n",
       "               abuse         loathe  \n",
       "count  159571.000000  159571.000000  \n",
       "mean        0.049364       0.008805  \n",
       "std         0.216627       0.093420  \n",
       "min         0.000000       0.000000  \n",
       "25%         0.000000       0.000000  \n",
       "50%         0.000000       0.000000  \n",
       "75%         0.000000       0.000000  \n",
       "max         1.000000       1.000000  "
      ]
     },
     "execution_count": 7,
     "metadata": {},
     "output_type": "execute_result"
    }
   ],
   "source": [
    "train.describe()"
   ]
  },
  {
   "cell_type": "code",
   "execution_count": 8,
   "id": "37f9f2ce",
   "metadata": {},
   "outputs": [
    {
     "data": {
      "text/plain": [
       "id                  0\n",
       "comment_text        0\n",
       "malignant           0\n",
       "highly_malignant    0\n",
       "rude                0\n",
       "threat              0\n",
       "abuse               0\n",
       "loathe              0\n",
       "dtype: int64"
      ]
     },
     "execution_count": 8,
     "metadata": {},
     "output_type": "execute_result"
    }
   ],
   "source": [
    "train.isnull().sum()"
   ]
  },
  {
   "cell_type": "code",
   "execution_count": 9,
   "id": "d6e93d67",
   "metadata": {},
   "outputs": [],
   "source": [
    "train['Threat_level'] = 0"
   ]
  },
  {
   "cell_type": "code",
   "execution_count": 10,
   "id": "88a7e3ad",
   "metadata": {},
   "outputs": [
    {
     "data": {
      "text/html": [
       "<div>\n",
       "<style scoped>\n",
       "    .dataframe tbody tr th:only-of-type {\n",
       "        vertical-align: middle;\n",
       "    }\n",
       "\n",
       "    .dataframe tbody tr th {\n",
       "        vertical-align: top;\n",
       "    }\n",
       "\n",
       "    .dataframe thead th {\n",
       "        text-align: right;\n",
       "    }\n",
       "</style>\n",
       "<table border=\"1\" class=\"dataframe\">\n",
       "  <thead>\n",
       "    <tr style=\"text-align: right;\">\n",
       "      <th></th>\n",
       "      <th>id</th>\n",
       "      <th>comment_text</th>\n",
       "      <th>malignant</th>\n",
       "      <th>highly_malignant</th>\n",
       "      <th>rude</th>\n",
       "      <th>threat</th>\n",
       "      <th>abuse</th>\n",
       "      <th>loathe</th>\n",
       "      <th>Threat_level</th>\n",
       "    </tr>\n",
       "  </thead>\n",
       "  <tbody>\n",
       "    <tr>\n",
       "      <th>0</th>\n",
       "      <td>0000997932d777bf</td>\n",
       "      <td>Explanation\\nWhy the edits made under my usern...</td>\n",
       "      <td>0</td>\n",
       "      <td>0</td>\n",
       "      <td>0</td>\n",
       "      <td>0</td>\n",
       "      <td>0</td>\n",
       "      <td>0</td>\n",
       "      <td>0</td>\n",
       "    </tr>\n",
       "    <tr>\n",
       "      <th>1</th>\n",
       "      <td>000103f0d9cfb60f</td>\n",
       "      <td>D'aww! He matches this background colour I'm s...</td>\n",
       "      <td>0</td>\n",
       "      <td>0</td>\n",
       "      <td>0</td>\n",
       "      <td>0</td>\n",
       "      <td>0</td>\n",
       "      <td>0</td>\n",
       "      <td>0</td>\n",
       "    </tr>\n",
       "    <tr>\n",
       "      <th>2</th>\n",
       "      <td>000113f07ec002fd</td>\n",
       "      <td>Hey man, I'm really not trying to edit war. It...</td>\n",
       "      <td>0</td>\n",
       "      <td>0</td>\n",
       "      <td>0</td>\n",
       "      <td>0</td>\n",
       "      <td>0</td>\n",
       "      <td>0</td>\n",
       "      <td>0</td>\n",
       "    </tr>\n",
       "    <tr>\n",
       "      <th>3</th>\n",
       "      <td>0001b41b1c6bb37e</td>\n",
       "      <td>\"\\nMore\\nI can't make any real suggestions on ...</td>\n",
       "      <td>0</td>\n",
       "      <td>0</td>\n",
       "      <td>0</td>\n",
       "      <td>0</td>\n",
       "      <td>0</td>\n",
       "      <td>0</td>\n",
       "      <td>0</td>\n",
       "    </tr>\n",
       "    <tr>\n",
       "      <th>4</th>\n",
       "      <td>0001d958c54c6e35</td>\n",
       "      <td>You, sir, are my hero. Any chance you remember...</td>\n",
       "      <td>0</td>\n",
       "      <td>0</td>\n",
       "      <td>0</td>\n",
       "      <td>0</td>\n",
       "      <td>0</td>\n",
       "      <td>0</td>\n",
       "      <td>0</td>\n",
       "    </tr>\n",
       "  </tbody>\n",
       "</table>\n",
       "</div>"
      ],
      "text/plain": [
       "                 id                                       comment_text  \\\n",
       "0  0000997932d777bf  Explanation\\nWhy the edits made under my usern...   \n",
       "1  000103f0d9cfb60f  D'aww! He matches this background colour I'm s...   \n",
       "2  000113f07ec002fd  Hey man, I'm really not trying to edit war. It...   \n",
       "3  0001b41b1c6bb37e  \"\\nMore\\nI can't make any real suggestions on ...   \n",
       "4  0001d958c54c6e35  You, sir, are my hero. Any chance you remember...   \n",
       "\n",
       "   malignant  highly_malignant  rude  threat  abuse  loathe  Threat_level  \n",
       "0          0                 0     0       0      0       0             0  \n",
       "1          0                 0     0       0      0       0             0  \n",
       "2          0                 0     0       0      0       0             0  \n",
       "3          0                 0     0       0      0       0             0  \n",
       "4          0                 0     0       0      0       0             0  "
      ]
     },
     "execution_count": 10,
     "metadata": {},
     "output_type": "execute_result"
    }
   ],
   "source": [
    "train.head()"
   ]
  },
  {
   "cell_type": "code",
   "execution_count": 11,
   "id": "d5cd87a6",
   "metadata": {},
   "outputs": [],
   "source": [
    "train.loc[((train['malignant']== 1) & (train['highly_malignant']== 1) & (train['rude']== 1) & (train['threat']== 1) & (train['abuse']== 1) & (train['loathe']== 1)), 'Threat_level']= 6"
   ]
  },
  {
   "cell_type": "code",
   "execution_count": 12,
   "id": "c5809f06",
   "metadata": {},
   "outputs": [],
   "source": [
    "train.loc[((train['malignant']== 1) & (train['highly_malignant']== 1) & (train['rude']== 1) & (train['threat']== 1) & (train['abuse']== 1) & (train['loathe']== 0)), 'Threat_level']= 5\n",
    "train.loc[((train['malignant']== 1) & (train['highly_malignant']== 1) & (train['rude']== 1) & (train['threat']== 1) & (train['abuse']== 0) & (train['loathe']== 1)), 'Threat_level']= 5\n",
    "train.loc[((train['malignant']== 1) & (train['highly_malignant']== 1) & (train['rude']== 1) & (train['threat']== 0) & (train['abuse']== 1) & (train['loathe']== 1)), 'Threat_level']= 5\n",
    "train.loc[((train['malignant']== 1) & (train['highly_malignant']== 1) & (train['rude']== 0) & (train['threat']== 1) & (train['abuse']== 1) & (train['loathe']== 1)), 'Threat_level']= 5\n",
    "train.loc[((train['malignant']== 1) & (train['highly_malignant']== 0) & (train['rude']== 1) & (train['threat']== 1) & (train['abuse']== 1) & (train['loathe']== 1)), 'Threat_level']= 5\n",
    "train.loc[((train['malignant']== 0) & (train['highly_malignant']== 1) & (train['rude']== 1) & (train['threat']== 1) & (train['abuse']== 1) & (train['loathe']== 1)), 'Threat_level']= 5"
   ]
  },
  {
   "cell_type": "code",
   "execution_count": 13,
   "id": "44110dce",
   "metadata": {},
   "outputs": [],
   "source": [
    "train.loc[((train['malignant']== 1) & (train['highly_malignant']== 1) & (train['rude']== 1) & (train['threat']== 1) & (train['abuse']== 0) & (train['loathe']== 0)), 'Threat_level']= 4\n",
    "train.loc[((train['malignant']== 1) & (train['highly_malignant']== 1) & (train['rude']== 1) & (train['threat']== 0) & (train['abuse']== 1) & (train['loathe']== 0)), 'Threat_level']= 4\n",
    "train.loc[((train['malignant']== 1) & (train['highly_malignant']== 1) & (train['rude']== 0) & (train['threat']== 1) & (train['abuse']== 1) & (train['loathe']== 0)), 'Threat_level']= 4\n",
    "train.loc[((train['malignant']== 1) & (train['highly_malignant']== 0) & (train['rude']== 1) & (train['threat']== 1) & (train['abuse']== 1) & (train['loathe']== 0)), 'Threat_level']= 4\n",
    "train.loc[((train['malignant']== 0) & (train['highly_malignant']== 1) & (train['rude']== 1) & (train['threat']== 1) & (train['abuse']== 1) & (train['loathe']== 0)), 'Threat_level']= 4"
   ]
  },
  {
   "cell_type": "code",
   "execution_count": 14,
   "id": "b66da60b",
   "metadata": {},
   "outputs": [],
   "source": [
    "train.loc[((train['malignant']== 1) & (train['highly_malignant']== 1) & (train['rude']== 1) & (train['threat']== 0) & (train['abuse']== 0) & (train['loathe']== 1)), 'Threat_level']= 4\n",
    "train.loc[((train['malignant']== 1) & (train['highly_malignant']== 1) & (train['rude']== 0) & (train['threat']== 1) & (train['abuse']== 0) & (train['loathe']== 1)), 'Threat_level']= 4\n",
    "train.loc[((train['malignant']== 1) & (train['highly_malignant']== 0) & (train['rude']== 1) & (train['threat']== 1) & (train['abuse']== 0) & (train['loathe']== 1)), 'Threat_level']= 4\n",
    "train.loc[((train['malignant']== 0) & (train['highly_malignant']== 1) & (train['rude']== 1) & (train['threat']== 1) & (train['abuse']== 0) & (train['loathe']== 1)), 'Threat_level']= 4"
   ]
  },
  {
   "cell_type": "code",
   "execution_count": 15,
   "id": "9fdb92b4",
   "metadata": {},
   "outputs": [],
   "source": [
    "train.loc[((train['malignant']== 1) & (train['highly_malignant']== 1) & (train['rude']== 0) & (train['threat']== 0) & (train['abuse']== 1) & (train['loathe']== 1)), 'Threat_level']= 4\n",
    "train.loc[((train['malignant']== 1) & (train['highly_malignant']== 0) & (train['rude']== 1) & (train['threat']== 0) & (train['abuse']== 1) & (train['loathe']== 1)), 'Threat_level']= 4\n",
    "train.loc[((train['malignant']== 0) & (train['highly_malignant']== 1) & (train['rude']== 1) & (train['threat']== 0) & (train['abuse']== 1) & (train['loathe']== 1)), 'Threat_level']= 4"
   ]
  },
  {
   "cell_type": "code",
   "execution_count": 16,
   "id": "dcad74df",
   "metadata": {},
   "outputs": [],
   "source": [
    "train.loc[((train['malignant']== 1) & (train['highly_malignant']== 0) & (train['rude']== 0) & (train['threat']== 1) & (train['abuse']== 1) & (train['loathe']== 1)), 'Threat_level']= 4\n",
    "train.loc[((train['malignant']== 0) & (train['highly_malignant']== 1) & (train['rude']== 0) & (train['threat']== 1) & (train['abuse']== 1) & (train['loathe']== 1)), 'Threat_level']= 4"
   ]
  },
  {
   "cell_type": "code",
   "execution_count": 17,
   "id": "b03e0544",
   "metadata": {},
   "outputs": [],
   "source": [
    "train.loc[((train['malignant']== 0) & (train['highly_malignant']== 0) & (train['rude']== 1) & (train['threat']== 1) & (train['abuse']== 1) & (train['loathe']== 1)), 'Threat_level']= 4"
   ]
  },
  {
   "cell_type": "code",
   "execution_count": 18,
   "id": "ae20232b",
   "metadata": {},
   "outputs": [],
   "source": [
    "train.loc[((train['malignant']== 1) & (train['highly_malignant']== 1) & (train['rude']== 1) & (train['threat']== 0) & (train['abuse']== 0) & (train['loathe']== 0)), 'Threat_level']= 3\n",
    "train.loc[((train['malignant']== 1) & (train['highly_malignant']== 1) & (train['rude']== 0) & (train['threat']== 1) & (train['abuse']== 0) & (train['loathe']== 0)), 'Threat_level']= 3\n",
    "train.loc[((train['malignant']== 1) & (train['highly_malignant']== 0) & (train['rude']== 1) & (train['threat']== 1) & (train['abuse']== 0) & (train['loathe']== 0)), 'Threat_level']= 3\n",
    "train.loc[((train['malignant']== 0) & (train['highly_malignant']== 1) & (train['rude']== 1) & (train['threat']== 0) & (train['abuse']== 0) & (train['loathe']== 0)), 'Threat_level']= 3"
   ]
  },
  {
   "cell_type": "code",
   "execution_count": 19,
   "id": "ca555d40",
   "metadata": {},
   "outputs": [],
   "source": [
    "train.loc[((train['malignant']== 1) & (train['highly_malignant']== 1) & (train['rude']== 0) & (train['threat']== 0) & (train['abuse']== 0) & (train['loathe']== 1)), 'Threat_level']= 3\n",
    "train.loc[((train['malignant']== 1) & (train['highly_malignant']== 0) & (train['rude']== 1) & (train['threat']== 0) & (train['abuse']== 0) & (train['loathe']== 1)), 'Threat_level']= 3\n",
    "train.loc[((train['malignant']== 0) & (train['highly_malignant']== 1) & (train['rude']== 1) & (train['threat']== 0) & (train['abuse']== 0) & (train['loathe']== 1)), 'Threat_level']= 3"
   ]
  },
  {
   "cell_type": "code",
   "execution_count": 20,
   "id": "d63fa884",
   "metadata": {},
   "outputs": [],
   "source": [
    "train.loc[((train['malignant']== 1) & (train['highly_malignant']== 0) & (train['rude']== 0) & (train['threat']== 0) & (train['abuse']== 1) & (train['loathe']== 1)), 'Threat_level']= 3\n",
    "train.loc[((train['malignant']== 0) & (train['highly_malignant']== 1) & (train['rude']== 0) & (train['threat']== 0) & (train['abuse']== 1) & (train['loathe']== 1)), 'Threat_level']= 3"
   ]
  },
  {
   "cell_type": "code",
   "execution_count": 21,
   "id": "ac72a9b1",
   "metadata": {},
   "outputs": [],
   "source": [
    "train.loc[((train['malignant']== 0) & (train['highly_malignant']== 0) & (train['rude']== 0) & (train['threat']== 1) & (train['abuse']== 1) & (train['loathe']== 1)), 'Threat_level']= 3"
   ]
  },
  {
   "cell_type": "code",
   "execution_count": 22,
   "id": "a7b3e39a",
   "metadata": {},
   "outputs": [],
   "source": [
    "train.loc[((train['malignant']== 0) & (train['highly_malignant']== 0) & (train['rude']== 0) & (train['threat']== 0) & (train['abuse']== 1) & (train['loathe']== 1)), 'Threat_level']= 2\n",
    "train.loc[((train['malignant']== 0) & (train['highly_malignant']== 0) & (train['rude']== 0) & (train['threat']== 1) & (train['abuse']== 0) & (train['loathe']== 1)), 'Threat_level']= 2\n",
    "train.loc[((train['malignant']== 0) & (train['highly_malignant']== 0) & (train['rude']== 1) & (train['threat']== 0) & (train['abuse']== 0) & (train['loathe']== 1)), 'Threat_level']= 2\n",
    "train.loc[((train['malignant']== 0) & (train['highly_malignant']== 1) & (train['rude']== 0) & (train['threat']== 0) & (train['abuse']== 0) & (train['loathe']== 1)), 'Threat_level']= 2\n",
    "train.loc[((train['malignant']== 1) & (train['highly_malignant']== 0) & (train['rude']== 0) & (train['threat']== 0) & (train['abuse']== 0) & (train['loathe']== 1)), 'Threat_level']= 2"
   ]
  },
  {
   "cell_type": "code",
   "execution_count": 23,
   "id": "abc9164f",
   "metadata": {},
   "outputs": [],
   "source": [
    "train.loc[((train['malignant']== 0) & (train['highly_malignant']== 0) & (train['rude']== 0) & (train['threat']== 1) & (train['abuse']== 1) & (train['loathe']== 0)), 'Threat_level']= 2\n",
    "train.loc[((train['malignant']== 0) & (train['highly_malignant']== 0) & (train['rude']== 1) & (train['threat']== 0) & (train['abuse']== 1) & (train['loathe']== 0)), 'Threat_level']= 2\n",
    "train.loc[((train['malignant']== 0) & (train['highly_malignant']== 1) & (train['rude']== 0) & (train['threat']== 0) & (train['abuse']== 1) & (train['loathe']== 0)), 'Threat_level']= 2\n",
    "train.loc[((train['malignant']== 1) & (train['highly_malignant']== 0) & (train['rude']== 0) & (train['threat']== 0) & (train['abuse']== 1) & (train['loathe']== 0)), 'Threat_level']= 2"
   ]
  },
  {
   "cell_type": "code",
   "execution_count": 24,
   "id": "772c6a9e",
   "metadata": {},
   "outputs": [],
   "source": [
    "train.loc[((train['malignant']== 0) & (train['highly_malignant']== 0) & (train['rude']== 1) & (train['threat']== 1) & (train['abuse']== 0) & (train['loathe']== 0)), 'Threat_level']= 2\n",
    "train.loc[((train['malignant']== 0) & (train['highly_malignant']== 1) & (train['rude']== 0) & (train['threat']== 1) & (train['abuse']== 0) & (train['loathe']== 0)), 'Threat_level']= 2\n",
    "train.loc[((train['malignant']== 1) & (train['highly_malignant']== 0) & (train['rude']== 0) & (train['threat']== 1) & (train['abuse']== 0) & (train['loathe']== 0)), 'Threat_level']= 2"
   ]
  },
  {
   "cell_type": "code",
   "execution_count": 25,
   "id": "6dd11183",
   "metadata": {},
   "outputs": [],
   "source": [
    "train.loc[((train['malignant']== 0) & (train['highly_malignant']== 1) & (train['rude']== 1) & (train['threat']== 0) & (train['abuse']== 0) & (train['loathe']== 0)), 'Threat_level']= 2\n",
    "train.loc[((train['malignant']== 1) & (train['highly_malignant']== 0) & (train['rude']== 1) & (train['threat']== 0) & (train['abuse']== 0) & (train['loathe']== 0)), 'Threat_level']= 2"
   ]
  },
  {
   "cell_type": "code",
   "execution_count": 26,
   "id": "7f56831d",
   "metadata": {},
   "outputs": [],
   "source": [
    "train.loc[((train['malignant']== 1) & (train['highly_malignant']== 1) & (train['rude']== 0) & (train['threat']== 0) & (train['abuse']== 0) & (train['loathe']== 0)), 'Threat_level']= 2"
   ]
  },
  {
   "cell_type": "code",
   "execution_count": 27,
   "id": "7f7dc7c1",
   "metadata": {},
   "outputs": [],
   "source": [
    "train.loc[((train['malignant']== 0) & (train['highly_malignant']== 0) & (train['rude']== 0) & (train['threat']== 0) & (train['abuse']== 0) & (train['loathe']== 1)), 'Threat_level']= 1\n",
    "train.loc[((train['malignant']== 0) & (train['highly_malignant']== 0) & (train['rude']== 0) & (train['threat']== 0) & (train['abuse']== 1) & (train['loathe']== 0)), 'Threat_level']= 1\n",
    "train.loc[((train['malignant']== 0) & (train['highly_malignant']== 0) & (train['rude']== 0) & (train['threat']== 1) & (train['abuse']== 0) & (train['loathe']== 0)), 'Threat_level']= 1\n",
    "train.loc[((train['malignant']== 0) & (train['highly_malignant']== 0) & (train['rude']== 1) & (train['threat']== 0) & (train['abuse']== 0) & (train['loathe']== 0)), 'Threat_level']= 1\n",
    "train.loc[((train['malignant']== 0) & (train['highly_malignant']== 1) & (train['rude']== 0) & (train['threat']== 0) & (train['abuse']== 0) & (train['loathe']== 0)), 'Threat_level']= 1\n",
    "train.loc[((train['malignant']== 1) & (train['highly_malignant']== 0) & (train['rude']== 0) & (train['threat']== 0) & (train['abuse']== 0) & (train['loathe']== 0)), 'Threat_level']= 1"
   ]
  },
  {
   "cell_type": "code",
   "execution_count": 28,
   "id": "d9dfccff",
   "metadata": {},
   "outputs": [
    {
     "data": {
      "text/plain": [
       "Index(['id', 'comment_text', 'malignant', 'highly_malignant', 'rude', 'threat',\n",
       "       'abuse', 'loathe', 'Threat_level'],\n",
       "      dtype='object')"
      ]
     },
     "execution_count": 28,
     "metadata": {},
     "output_type": "execute_result"
    }
   ],
   "source": [
    "train.columns"
   ]
  },
  {
   "cell_type": "code",
   "execution_count": 29,
   "id": "910d4306",
   "metadata": {},
   "outputs": [],
   "source": [
    "train.drop(['malignant','highly_malignant','rude','threat','abuse','loathe'], axis= 1, inplace= True)"
   ]
  },
  {
   "cell_type": "markdown",
   "id": "63d5e970",
   "metadata": {},
   "source": [
    "#### EDA\n",
    "\n",
    "1. id"
   ]
  },
  {
   "cell_type": "code",
   "execution_count": 30,
   "id": "195d3055",
   "metadata": {},
   "outputs": [
    {
     "data": {
      "text/plain": [
       "array(['0000997932d777bf', '000103f0d9cfb60f', '000113f07ec002fd', ...,\n",
       "       'ffee36eab5c267c9', 'fff125370e4aaaf3', 'fff46fc426af1f9a'],\n",
       "      dtype=object)"
      ]
     },
     "execution_count": 30,
     "metadata": {},
     "output_type": "execute_result"
    }
   ],
   "source": [
    "train['id'].unique()"
   ]
  },
  {
   "cell_type": "code",
   "execution_count": 31,
   "id": "b15eec03",
   "metadata": {},
   "outputs": [],
   "source": [
    "a = []\n",
    "for i in train['id']:\n",
    "    i = i[-1]\n",
    "    a.append(i)"
   ]
  },
  {
   "cell_type": "code",
   "execution_count": 32,
   "id": "d541f385",
   "metadata": {},
   "outputs": [],
   "source": [
    "train['id'] = pd.Series(a)"
   ]
  },
  {
   "cell_type": "code",
   "execution_count": 33,
   "id": "20029c69",
   "metadata": {},
   "outputs": [
    {
     "data": {
      "text/plain": [
       "array(['f', 'd', 'e', '5', '7', '1', 'a', 'c', '4', 'b', '9', '3', '6',\n",
       "       '2', '0', '8'], dtype=object)"
      ]
     },
     "execution_count": 33,
     "metadata": {},
     "output_type": "execute_result"
    }
   ],
   "source": [
    "train['id'].unique()"
   ]
  },
  {
   "cell_type": "code",
   "execution_count": 34,
   "id": "739d0477",
   "metadata": {},
   "outputs": [
    {
     "data": {
      "image/png": "[encoded data removed]",
      "text/plain": [
       "<Figure size 1080x1080 with 2 Axes>"
      ]
     },
     "metadata": {
      "needs_background": "light"
     },
     "output_type": "display_data"
    }
   ],
   "source": [
    "plt.figure(figsize= [15,15])\n",
    "plt.subplot(221)\n",
    "sns.countplot(train['id'])\n",
    "plt.xlabel('id')\n",
    "plt.subplot(222)\n",
    "sns.scatterplot(x= 'id', y= 'Threat_level', data= train)\n",
    "plt.xlabel('id')\n",
    "plt.ylabel('Threat_level')\n",
    "plt.show()"
   ]
  },
  {
   "cell_type": "markdown",
   "id": "23ee8a8c",
   "metadata": {},
   "source": [
    "2. comment_text"
   ]
  },
  {
   "cell_type": "code",
   "execution_count": 34,
   "id": "9430b4d1",
   "metadata": {},
   "outputs": [
    {
     "data": {
      "text/plain": [
       "array([\"Explanation\\nWhy the edits made under my username Hardcore Metallica Fan were reverted? They weren't vandalisms, just closure on some GAs after I voted at New York Dolls FAC. And please don't remove the template from the talk page since I'm retired now.89.205.38.27\",\n",
       "       \"D'aww! He matches this background colour I'm seemingly stuck with. Thanks.  (talk) 21:51, January 11, 2016 (UTC)\",\n",
       "       \"Hey man, I'm really not trying to edit war. It's just that this guy is constantly removing relevant information and talking to me through edits instead of my talk page. He seems to care more about the formatting than the actual info.\",\n",
       "       ...,\n",
       "       'Spitzer \\n\\nUmm, theres no actual article for prostitution ring.  - Crunch Captain.',\n",
       "       'And it looks like it was actually you who put on the speedy to have the first version deleted now that I look at it.',\n",
       "       '\"\\nAnd ... I really don\\'t think you understand.  I came here and my idea was bad right away.  What kind of community goes \"\"you have bad ideas\"\" go away, instead of helping rewrite them.   \"'],\n",
       "      dtype=object)"
      ]
     },
     "execution_count": 34,
     "metadata": {},
     "output_type": "execute_result"
    }
   ],
   "source": [
    "train['comment_text'].unique()"
   ]
  },
  {
   "cell_type": "code",
   "execution_count": 35,
   "id": "717b5a94",
   "metadata": {},
   "outputs": [],
   "source": [
    "a = []\n",
    "for i in train['comment_text']:\n",
    "    i = i[-1]\n",
    "    a.append(i)"
   ]
  },
  {
   "cell_type": "code",
   "execution_count": 37,
   "id": "46ed5f70",
   "metadata": {},
   "outputs": [],
   "source": [
    "train['comment_text'] = pd.Series(a)"
   ]
  },
  {
   "cell_type": "code",
   "execution_count": 38,
   "id": "b87cad0e",
   "metadata": {},
   "outputs": [
    {
     "data": {
      "text/plain": [
       "array(['7', ')', '.', '\"', '?', 'K', '9', 'w', ',', 'i', '-', '!', ']',\n",
       "       '2', 'u', 'n', 's', 'y', 'm', 'd', 'c', 'e', '4', '5', 'k', '6',\n",
       "       '3', 't', 'g', \"'\", ':', 'o', '0', 'a', '8', 'x', 'r', 'C', '=',\n",
       "       '`', 'G', 'T', '1', '+', '@', 'R', '/', 'f', 'h', '~', '☎', '—',\n",
       "       'D', '♥', 'p', 'S', '(', ';', '–', 'F', 'V', 'l', 'ン', 'I', 'U',\n",
       "       'P', 'M', '☺', '}', 'b', '>', 'ג', 'A', 'Ⓣ', 'Y', 'J', 'B', 'E',\n",
       "       'L', '^', '\\u2060', '™', '✉', 'O', '→', '*', '_', 'X', 'v', 'á',\n",
       "       'z', '©', '−', '🗽', '\\u200b', 'т', 'N', '|', '[', '♫', '{', '•',\n",
       "       '”', 'j', '੭', '%', '」', 'H', 'φ', '∞', 'W', '…', '\\x97', '。', '$',\n",
       "       '✎', '\\\\', '·', '»', '♚', 'দ', 'Z', '😂', '☼', '─', '§', 'ʙ', '↓',\n",
       "       '♠', '✈', '😄', '∆', 'æ', '✍', '£', 'म', '¦', '☯', 'ツ', '）', '<',\n",
       "       '¡', '÷', '母', 'q', '♔', '³', '’', '好', '┐', 'ʼ', 'ν', '✰', '€',\n",
       "       '✆', 'Ü', '�', '\\u200e', '×', 'ॐ', 'Q', '«', 'ل', '☑', 'ி', '༆',\n",
       "       '#', '¶', '☄', '¢', '⇔', 'Φ', '☃', '⚔', '水', '☭', '₩', 'έ', '❞',\n",
       "       '←', 'თ', 'а', '≈', '○', '♦', 'थ', '¨', 'ך', '≠', 'Θ', 'Ǔ', '☿',\n",
       "       '話', 'к', '†', '】', '✐', 'ב', 'ć', 'ᴷ', '∅', '╩', '💜', 'ה', 'ʕ',\n",
       "       'ک', '―', 'É', '்', 'ń', '◔', '⟲', 'χ', '®', '市', 'ɟ', '┛', 'é',\n",
       "       'ط', '▶', '★', '！', '你', '⁾'], dtype=object)"
      ]
     },
     "execution_count": 38,
     "metadata": {},
     "output_type": "execute_result"
    }
   ],
   "source": [
    "train['comment_text'].unique()"
   ]
  },
  {
   "cell_type": "code",
   "execution_count": 39,
   "id": "d7b84eec",
   "metadata": {},
   "outputs": [],
   "source": [
    "train['comment_text'] = train['comment_text'].replace(['7', ')', '.', '\"', '?', '9', ',', '-', '!', ']',\n",
    "                                                       '2', '4', '5', '6','3', \"'\", ':', '0', '8', '=',\n",
    "                                                       '`', '1', '+', '@', 'R', '/', '~', '☎', '—', '♥', '(', ';', '–', 'ン',\n",
    "                                                       '☺', '}', '>', 'ג', 'Ⓣ', '^', '\\u2060', '™', '✉', '→', '*', '_', 'á',\n",
    "                                                       '©', '−', '🗽', '\\u200b', 'т', '|', '[', '♫', '{', '•',\n",
    "                                                       '”', '੭', '%', '」', 'φ', '∞', '…', '\\x97', '。', '$',\n",
    "                                                       '✎', '\\\\', '·', '»', '♚', 'দ', '😂', '☼', '─', '§', 'ʙ', '↓',\n",
    "                                                       '♠', '✈', '😄', '∆', 'æ', '✍', '£', 'म', '¦', '☯', 'ツ', '）', '<',\n",
    "                                                       '¡', '÷', '母', '♔', '³', '’', '好', '┐', 'ʼ', 'ν', '✰', '€',\n",
    "                                                       '✆', 'Ü', '�', '\\u200e', '×', 'ॐ', '«', 'ل', '☑', 'ி', '༆',\n",
    "                                                       '#', '¶', '☄', '¢', '⇔', 'Φ', '☃', '⚔', '水', '☭', '₩', 'έ', '❞',\n",
    "                                                       '←', 'თ', 'а', '≈', '○', '♦', 'थ', '¨', 'ך', '≠', 'Θ', 'Ǔ', '☿',\n",
    "                                                       '話', 'к', '†', '】', '✐', 'ב', 'ć', 'ᴷ', '∅', '╩', '💜', 'ה', 'ʕ',\n",
    "                                                       'ک', '―', 'É', '்', 'ń', '◔', '⟲', 'χ', '®', '市', 'ɟ', '┛', 'é',\n",
    "                                                       'ط', '▶', '★', '！', '你', '⁾'],\n",
    "                                                      [np.nan, np.nan, np.nan, np.nan, np.nan, np.nan, np.nan, np.nan, np.nan, np.nan,\n",
    "                                                       np.nan, np.nan, np.nan, np.nan, np.nan, np.nan, np.nan, np.nan, np.nan, np.nan,\n",
    "                                                       np.nan, np.nan, np.nan, np.nan, np.nan, np.nan, np.nan, np.nan, np.nan, np.nan,\n",
    "                                                       np.nan, np.nan, np.nan, np.nan, np.nan, np.nan, np.nan, np.nan, np.nan, np.nan,\n",
    "                                                       np.nan, np.nan, np.nan, np.nan, np.nan, np.nan, np.nan, np.nan, np.nan, np.nan,\n",
    "                                                       np.nan, np.nan, np.nan, np.nan, np.nan, np.nan, np.nan, np.nan, np.nan, np.nan,\n",
    "                                                       np.nan, np.nan, np.nan, np.nan, np.nan, np.nan, np.nan, np.nan, np.nan, np.nan,\n",
    "                                                       np.nan, np.nan, np.nan, np.nan, np.nan, np.nan, np.nan, np.nan, np.nan, np.nan,\n",
    "                                                       np.nan, np.nan, np.nan, np.nan, np.nan, np.nan, np.nan, np.nan, np.nan, np.nan,\n",
    "                                                       np.nan, np.nan, np.nan, np.nan, np.nan, np.nan, np.nan, np.nan, np.nan, np.nan,\n",
    "                                                       np.nan, np.nan, np.nan, np.nan, np.nan, np.nan, np.nan, np.nan, np.nan, np.nan,\n",
    "                                                       np.nan, np.nan, np.nan, np.nan, np.nan, np.nan, np.nan, np.nan, np.nan, np.nan,\n",
    "                                                       np.nan, np.nan, np.nan, np.nan, np.nan, np.nan, np.nan, np.nan, np.nan, np.nan,\n",
    "                                                       np.nan, np.nan, np.nan, np.nan, np.nan, np.nan, np.nan, np.nan, np.nan, np.nan,\n",
    "                                                       np.nan, np.nan, np.nan, np.nan, np.nan, np.nan, np.nan, np.nan, np.nan, np.nan,\n",
    "                                                       np.nan, np.nan, np.nan, np.nan, np.nan, np.nan, np.nan, np.nan, np.nan, np.nan,\n",
    "                                                       np.nan, np.nan, np.nan, np.nan, np.nan, np.nan, np.nan, np.nan, np.nan, np.nan,\n",
    "                                                       np.nan, np.nan, np.nan])"
   ]
  },
  {
   "cell_type": "code",
   "execution_count": 40,
   "id": "499e660c",
   "metadata": {},
   "outputs": [
    {
     "data": {
      "text/plain": [
       "137061"
      ]
     },
     "execution_count": 40,
     "metadata": {},
     "output_type": "execute_result"
    }
   ],
   "source": [
    "train['comment_text'].isnull().sum()"
   ]
  },
  {
   "cell_type": "code",
   "execution_count": 41,
   "id": "d08d4d80",
   "metadata": {},
   "outputs": [],
   "source": [
    "train['comment_text'] = train['comment_text'].fillna(method= 'bfill')\n",
    "train['comment_text'] = train['comment_text'].fillna(method= 'ffill')"
   ]
  },
  {
   "cell_type": "code",
   "execution_count": 42,
   "id": "0d4faf0b",
   "metadata": {},
   "outputs": [
    {
     "data": {
      "text/plain": [
       "array(['K', 'w', 'i', 'u', 'n', 's', 'y', 'm', 'd', 'c', 'e', 'k', 't',\n",
       "       'g', 'o', 'a', 'x', 'r', 'C', 'G', 'T', 'f', 'h', 'D', 'p', 'S',\n",
       "       'F', 'V', 'l', 'I', 'U', 'P', 'M', 'b', 'A', 'Y', 'J', 'B', 'E',\n",
       "       'L', 'O', 'X', 'v', 'z', 'N', 'j', 'H', 'W', 'Z', 'q', 'Q'],\n",
       "      dtype=object)"
      ]
     },
     "execution_count": 42,
     "metadata": {},
     "output_type": "execute_result"
    }
   ],
   "source": [
    "train['comment_text'].unique()"
   ]
  },
  {
   "cell_type": "code",
   "execution_count": 43,
   "id": "a2602a02",
   "metadata": {},
   "outputs": [],
   "source": [
    "train['comment_text'] = train['comment_text'].str.lower()"
   ]
  },
  {
   "cell_type": "code",
   "execution_count": 44,
   "id": "435ddb5b",
   "metadata": {},
   "outputs": [
    {
     "data": {
      "text/plain": [
       "array(['k', 'w', 'i', 'u', 'n', 's', 'y', 'm', 'd', 'c', 'e', 't', 'g',\n",
       "       'o', 'a', 'x', 'r', 'f', 'h', 'p', 'v', 'l', 'b', 'j', 'z', 'q'],\n",
       "      dtype=object)"
      ]
     },
     "execution_count": 44,
     "metadata": {},
     "output_type": "execute_result"
    }
   ],
   "source": [
    "train['comment_text'].unique()"
   ]
  },
  {
   "cell_type": "code",
   "execution_count": 45,
   "id": "b5b6674a",
   "metadata": {},
   "outputs": [
    {
     "data": {
      "image/png": "[encoded data removed]",
      "text/plain": [
       "<Figure size 1080x1080 with 2 Axes>"
      ]
     },
     "metadata": {
      "needs_background": "light"
     },
     "output_type": "display_data"
    }
   ],
   "source": [
    "plt.figure(figsize= [15,15])\n",
    "plt.subplot(221)\n",
    "sns.countplot(train['comment_text'])\n",
    "plt.xlabel('comment_text')\n",
    "plt.subplot(222)\n",
    "sns.scatterplot(x= 'comment_text', y= 'Threat_level', data= train)\n",
    "plt.xlabel('comment_text')\n",
    "plt.ylabel('Threat_level')\n",
    "plt.show()"
   ]
  },
  {
   "cell_type": "code",
   "execution_count": 46,
   "id": "1ef681f4",
   "metadata": {},
   "outputs": [
    {
     "data": {
      "text/plain": [
       "array(['f', 'd', 'e', '5', '7', '1', 'a', 'c', '4', 'b', '9', '3', '6',\n",
       "       '2', '0', '8'], dtype=object)"
      ]
     },
     "execution_count": 46,
     "metadata": {},
     "output_type": "execute_result"
    }
   ],
   "source": [
    "train['id'].unique()"
   ]
  },
  {
   "cell_type": "code",
   "execution_count": 47,
   "id": "8cc10581",
   "metadata": {},
   "outputs": [],
   "source": [
    "train['id'] = train['id'].replace(['f', 'd', 'e', '5', '7', '1', 'a', 'c', '4', 'b', '9', '3', '6', '2', '0', '8'],\n",
    "                                  np.arange(0,16))"
   ]
  },
  {
   "cell_type": "code",
   "execution_count": 48,
   "id": "ce3b050b",
   "metadata": {},
   "outputs": [
    {
     "data": {
      "text/plain": [
       "array(['k', 'w', 'i', 'u', 'n', 's', 'y', 'm', 'd', 'c', 'e', 't', 'g',\n",
       "       'o', 'a', 'x', 'r', 'f', 'h', 'p', 'v', 'l', 'b', 'j', 'z', 'q'],\n",
       "      dtype=object)"
      ]
     },
     "execution_count": 48,
     "metadata": {},
     "output_type": "execute_result"
    }
   ],
   "source": [
    "train['comment_text'].unique()"
   ]
  },
  {
   "cell_type": "code",
   "execution_count": 49,
   "id": "708abd9e",
   "metadata": {},
   "outputs": [],
   "source": [
    "train['comment_text'] = train['comment_text'].replace(['k', 'w', 'i', 'u', 'n', 's', 'y', 'm', 'd', 'c', 'e', 't', 'g',\n",
    "                                                       'o', 'a', 'x', 'r', 'f', 'h', 'p', 'v', 'l', 'b', 'j', 'z', 'q'],\n",
    "                                                      np.arange(0,26))"
   ]
  },
  {
   "cell_type": "code",
   "execution_count": 50,
   "id": "4ced8e2b",
   "metadata": {},
   "outputs": [],
   "source": [
    "X = train.drop(['Threat_level'], axis= 1)\n",
    "y = train['Threat_level']"
   ]
  },
  {
   "cell_type": "code",
   "execution_count": 51,
   "id": "2e6b55d2",
   "metadata": {},
   "outputs": [],
   "source": [
    "X_train, X_test, y_train, y_test = train_test_split(X, y, test_size= 0.25, random_state= 1)"
   ]
  },
  {
   "cell_type": "code",
   "execution_count": 52,
   "id": "7b687dc3",
   "metadata": {},
   "outputs": [],
   "source": [
    "scaler = StandardScaler()"
   ]
  },
  {
   "cell_type": "code",
   "execution_count": 53,
   "id": "972b8c40",
   "metadata": {},
   "outputs": [],
   "source": [
    "scaledX_train = scaler.fit_transform(X_train)\n",
    "scaledX_test = scaler.transform(X_test)"
   ]
  },
  {
   "cell_type": "code",
   "execution_count": 54,
   "id": "69686d5d",
   "metadata": {},
   "outputs": [],
   "source": [
    "lr = LogisticRegression()\n",
    "lrf = GridSearchCV(lr, param_grid= {'C': [1,2,3,4,5]}, scoring= 'accuracy', cv= 5)"
   ]
  },
  {
   "cell_type": "code",
   "execution_count": 55,
   "id": "0f2490ae",
   "metadata": {},
   "outputs": [
    {
     "data": {
      "text/plain": [
       "GridSearchCV(cv=5, estimator=LogisticRegression(),\n",
       "             param_grid={'C': [1, 2, 3, 4, 5]}, scoring='accuracy')"
      ]
     },
     "execution_count": 55,
     "metadata": {},
     "output_type": "execute_result"
    }
   ],
   "source": [
    "lrf.fit(scaledX_train, y_train)"
   ]
  },
  {
   "cell_type": "code",
   "execution_count": 56,
   "id": "64c119dd",
   "metadata": {},
   "outputs": [
    {
     "data": {
      "text/plain": [
       "{'C': 1}"
      ]
     },
     "execution_count": 56,
     "metadata": {},
     "output_type": "execute_result"
    }
   ],
   "source": [
    "lrf.best_params_"
   ]
  },
  {
   "cell_type": "code",
   "execution_count": 57,
   "id": "cfbe0d80",
   "metadata": {},
   "outputs": [
    {
     "name": "stdout",
     "output_type": "stream",
     "text": [
      "train score :  0.9230602115677067\n",
      "test score :  0.9207881081894067\n"
     ]
    }
   ],
   "source": [
    "print('train score : ', lrf.score(scaledX_train, y_train))\n",
    "print('test score : ', lrf.score(scaledX_test, y_test))"
   ]
  },
  {
   "cell_type": "code",
   "execution_count": 58,
   "id": "574c98de",
   "metadata": {},
   "outputs": [],
   "source": [
    "dt = DecisionTreeClassifier(criterion= 'entropy')\n",
    "par = {'max_depth' : [1,2,3,4,5], 'min_samples_leaf': [1,2,3,4,5], 'min_samples_split': [1,2,3,4,5]}\n",
    "dtf = GridSearchCV(dt, param_grid= par, scoring= 'accuracy', cv= 5)"
   ]
  },
  {
   "cell_type": "code",
   "execution_count": 59,
   "id": "f4ac6ef4",
   "metadata": {},
   "outputs": [
    {
     "data": {
      "text/plain": [
       "GridSearchCV(cv=5, estimator=DecisionTreeClassifier(criterion='entropy'),\n",
       "             param_grid={'max_depth': [1, 2, 3, 4, 5],\n",
       "                         'min_samples_leaf': [1, 2, 3, 4, 5],\n",
       "                         'min_samples_split': [1, 2, 3, 4, 5]},\n",
       "             scoring='accuracy')"
      ]
     },
     "execution_count": 59,
     "metadata": {},
     "output_type": "execute_result"
    }
   ],
   "source": [
    "dtf.fit(scaledX_train, y_train)"
   ]
  },
  {
   "cell_type": "code",
   "execution_count": 60,
   "id": "b9e58b20",
   "metadata": {},
   "outputs": [
    {
     "data": {
      "text/plain": [
       "{'max_depth': 1, 'min_samples_leaf': 1, 'min_samples_split': 2}"
      ]
     },
     "execution_count": 60,
     "metadata": {},
     "output_type": "execute_result"
    }
   ],
   "source": [
    "dtf.best_params_"
   ]
  },
  {
   "cell_type": "code",
   "execution_count": 61,
   "id": "d263a448",
   "metadata": {},
   "outputs": [
    {
     "name": "stdout",
     "output_type": "stream",
     "text": [
      "train score :  0.9230602115677067\n",
      "test score :  0.9207881081894067\n"
     ]
    }
   ],
   "source": [
    "print('train score : ', dtf.score(scaledX_train, y_train))\n",
    "print('test score : ', dtf.score(scaledX_test, y_test))"
   ]
  },
  {
   "cell_type": "code",
   "execution_count": 62,
   "id": "8427990b",
   "metadata": {},
   "outputs": [],
   "source": [
    "rf = RandomForestClassifier(criterion= 'entropy')\n",
    "rff = GridSearchCV(rf, param_grid= par, scoring= 'accuracy', cv= 5)"
   ]
  },
  {
   "cell_type": "code",
   "execution_count": 63,
   "id": "a516bf5b",
   "metadata": {},
   "outputs": [
    {
     "data": {
      "text/plain": [
       "GridSearchCV(cv=5, estimator=RandomForestClassifier(criterion='entropy'),\n",
       "             param_grid={'max_depth': [1, 2, 3, 4, 5],\n",
       "                         'min_samples_leaf': [1, 2, 3, 4, 5],\n",
       "                         'min_samples_split': [1, 2, 3, 4, 5]},\n",
       "             scoring='accuracy')"
      ]
     },
     "execution_count": 63,
     "metadata": {},
     "output_type": "execute_result"
    }
   ],
   "source": [
    "rff.fit(scaledX_train, y_train)"
   ]
  },
  {
   "cell_type": "code",
   "execution_count": 64,
   "id": "84df893d",
   "metadata": {},
   "outputs": [
    {
     "data": {
      "text/plain": [
       "{'max_depth': 1, 'min_samples_leaf': 1, 'min_samples_split': 2}"
      ]
     },
     "execution_count": 64,
     "metadata": {},
     "output_type": "execute_result"
    }
   ],
   "source": [
    "rff.best_params_"
   ]
  },
  {
   "cell_type": "code",
   "execution_count": 65,
   "id": "51831d3f",
   "metadata": {},
   "outputs": [
    {
     "name": "stdout",
     "output_type": "stream",
     "text": [
      "train score :  0.9230602115677067\n",
      "test score :  0.9207881081894067\n"
     ]
    }
   ],
   "source": [
    "print('train score : ', rff.score(scaledX_train, y_train))\n",
    "print('test score : ', rff.score(scaledX_test, y_test))"
   ]
  },
  {
   "cell_type": "code",
   "execution_count": 66,
   "id": "a4056d1c",
   "metadata": {},
   "outputs": [],
   "source": [
    "bc = BaggingClassifier(base_estimator= DecisionTreeClassifier(criterion= 'entropy'))\n",
    "bcf = GridSearchCV(bc, param_grid= {'max_samples': [1,2,3,4,5], 'max_features': [1,2,3,4,5]}, scoring= 'accuracy', cv= 5)"
   ]
  },
  {
   "cell_type": "code",
   "execution_count": 67,
   "id": "9f52af1b",
   "metadata": {},
   "outputs": [
    {
     "data": {
      "text/plain": [
       "GridSearchCV(cv=5,\n",
       "             estimator=BaggingClassifier(base_estimator=DecisionTreeClassifier(criterion='entropy')),\n",
       "             param_grid={'max_features': [1, 2, 3, 4, 5],\n",
       "                         'max_samples': [1, 2, 3, 4, 5]},\n",
       "             scoring='accuracy')"
      ]
     },
     "execution_count": 67,
     "metadata": {},
     "output_type": "execute_result"
    }
   ],
   "source": [
    "bcf.fit(scaledX_train, y_train)"
   ]
  },
  {
   "cell_type": "code",
   "execution_count": 68,
   "id": "9062fce2",
   "metadata": {},
   "outputs": [
    {
     "data": {
      "text/plain": [
       "{'max_features': 1, 'max_samples': 1}"
      ]
     },
     "execution_count": 68,
     "metadata": {},
     "output_type": "execute_result"
    }
   ],
   "source": [
    "bcf.best_params_"
   ]
  },
  {
   "cell_type": "code",
   "execution_count": 69,
   "id": "5aebc4d4",
   "metadata": {},
   "outputs": [
    {
     "name": "stdout",
     "output_type": "stream",
     "text": [
      "train score :  0.9230602115677067\n",
      "test score :  0.9207881081894067\n"
     ]
    }
   ],
   "source": [
    "print('train score : ', bcf.score(scaledX_train, y_train))\n",
    "print('test score : ', bcf.score(scaledX_test, y_test))"
   ]
  },
  {
   "cell_type": "code",
   "execution_count": 70,
   "id": "4f64d82c",
   "metadata": {},
   "outputs": [],
   "source": [
    "ad = AdaBoostClassifier(base_estimator= DecisionTreeClassifier(criterion= 'entropy'))\n",
    "adf = GridSearchCV(ad, param_grid= {'n_estimators': [40, 42, 45, 32, 25], 'learning_rate': [1, 0.1, 0.01, 0.5, 0.6789]},\n",
    "                   scoring= 'accuracy', cv= 5)"
   ]
  },
  {
   "cell_type": "code",
   "execution_count": 71,
   "id": "d436ab23",
   "metadata": {},
   "outputs": [
    {
     "data": {
      "text/plain": [
       "GridSearchCV(cv=5,\n",
       "             estimator=AdaBoostClassifier(base_estimator=DecisionTreeClassifier(criterion='entropy')),\n",
       "             param_grid={'learning_rate': [1, 0.1, 0.01, 0.5, 0.6789],\n",
       "                         'n_estimators': [40, 42, 45, 32, 25]},\n",
       "             scoring='accuracy')"
      ]
     },
     "execution_count": 71,
     "metadata": {},
     "output_type": "execute_result"
    }
   ],
   "source": [
    "adf.fit(scaledX_train, y_train)"
   ]
  },
  {
   "cell_type": "code",
   "execution_count": 72,
   "id": "1a6b479e",
   "metadata": {},
   "outputs": [
    {
     "data": {
      "text/plain": [
       "{'learning_rate': 0.1, 'n_estimators': 40}"
      ]
     },
     "execution_count": 72,
     "metadata": {},
     "output_type": "execute_result"
    }
   ],
   "source": [
    "adf.best_params_"
   ]
  },
  {
   "cell_type": "code",
   "execution_count": 73,
   "id": "50349be3",
   "metadata": {},
   "outputs": [
    {
     "name": "stdout",
     "output_type": "stream",
     "text": [
      "train score :  0.9230602115677067\n",
      "test score :  0.9207881081894067\n"
     ]
    }
   ],
   "source": [
    "print('train score : ', adf.score(scaledX_train, y_train))\n",
    "print('test score : ', adf.score(scaledX_test, y_test))"
   ]
  },
  {
   "cell_type": "code",
   "execution_count": 76,
   "id": "0d8284cc",
   "metadata": {},
   "outputs": [
    {
     "data": {
      "text/html": [
       "<div>\n",
       "<style scoped>\n",
       "    .dataframe tbody tr th:only-of-type {\n",
       "        vertical-align: middle;\n",
       "    }\n",
       "\n",
       "    .dataframe tbody tr th {\n",
       "        vertical-align: top;\n",
       "    }\n",
       "\n",
       "    .dataframe thead th {\n",
       "        text-align: right;\n",
       "    }\n",
       "</style>\n",
       "<table border=\"1\" class=\"dataframe\">\n",
       "  <thead>\n",
       "    <tr style=\"text-align: right;\">\n",
       "      <th></th>\n",
       "      <th>id</th>\n",
       "      <th>comment_text</th>\n",
       "    </tr>\n",
       "  </thead>\n",
       "  <tbody>\n",
       "    <tr>\n",
       "      <th>0</th>\n",
       "      <td>00001cee341fdb12</td>\n",
       "      <td>Yo bitch Ja Rule is more succesful then you'll...</td>\n",
       "    </tr>\n",
       "    <tr>\n",
       "      <th>1</th>\n",
       "      <td>0000247867823ef7</td>\n",
       "      <td>== From RfC == \\n\\n The title is fine as it is...</td>\n",
       "    </tr>\n",
       "    <tr>\n",
       "      <th>2</th>\n",
       "      <td>00013b17ad220c46</td>\n",
       "      <td>\" \\n\\n == Sources == \\n\\n * Zawe Ashton on Lap...</td>\n",
       "    </tr>\n",
       "    <tr>\n",
       "      <th>3</th>\n",
       "      <td>00017563c3f7919a</td>\n",
       "      <td>:If you have a look back at the source, the in...</td>\n",
       "    </tr>\n",
       "    <tr>\n",
       "      <th>4</th>\n",
       "      <td>00017695ad8997eb</td>\n",
       "      <td>I don't anonymously edit articles at all.</td>\n",
       "    </tr>\n",
       "  </tbody>\n",
       "</table>\n",
       "</div>"
      ],
      "text/plain": [
       "                 id                                       comment_text\n",
       "0  00001cee341fdb12  Yo bitch Ja Rule is more succesful then you'll...\n",
       "1  0000247867823ef7  == From RfC == \\n\\n The title is fine as it is...\n",
       "2  00013b17ad220c46  \" \\n\\n == Sources == \\n\\n * Zawe Ashton on Lap...\n",
       "3  00017563c3f7919a  :If you have a look back at the source, the in...\n",
       "4  00017695ad8997eb          I don't anonymously edit articles at all."
      ]
     },
     "execution_count": 76,
     "metadata": {},
     "output_type": "execute_result"
    }
   ],
   "source": [
    "test.head()"
   ]
  },
  {
   "cell_type": "code",
   "execution_count": 77,
   "id": "76a78365",
   "metadata": {},
   "outputs": [
    {
     "data": {
      "text/plain": [
       "array(['00001cee341fdb12', '0000247867823ef7', '00013b17ad220c46', ...,\n",
       "       'fffda9e8d6fafa9e', 'fffe8f1340a79fc2', 'ffffce3fb183ee80'],\n",
       "      dtype=object)"
      ]
     },
     "execution_count": 77,
     "metadata": {},
     "output_type": "execute_result"
    }
   ],
   "source": [
    "test['id'].unique()"
   ]
  },
  {
   "cell_type": "code",
   "execution_count": 78,
   "id": "afe974e8",
   "metadata": {},
   "outputs": [],
   "source": [
    "a = []\n",
    "for i in test['id']:\n",
    "    i = i[-1]\n",
    "    a.append(i)"
   ]
  },
  {
   "cell_type": "code",
   "execution_count": 79,
   "id": "282776fa",
   "metadata": {},
   "outputs": [],
   "source": [
    "test['id'] = pd.Series(a)"
   ]
  },
  {
   "cell_type": "code",
   "execution_count": 80,
   "id": "148a7646",
   "metadata": {},
   "outputs": [
    {
     "data": {
      "text/plain": [
       "array(['2', '7', '6', 'a', 'b', 'f', '1', '8', 'c', '9', '3', '0', '5',\n",
       "       '4', 'd', 'e'], dtype=object)"
      ]
     },
     "execution_count": 80,
     "metadata": {},
     "output_type": "execute_result"
    }
   ],
   "source": [
    "test['id'].unique()"
   ]
  },
  {
   "cell_type": "code",
   "execution_count": 81,
   "id": "d22c198b",
   "metadata": {},
   "outputs": [
    {
     "data": {
      "text/plain": [
       "array([\"Yo bitch Ja Rule is more succesful then you'll ever be whats up with you and hating you sad mofuckas...i should bitch slap ur pethedic white faces and get you to kiss my ass you guys sicken me. Ja rule is about pride in da music man. dont diss that shit on him. and nothin is wrong bein like tupac he was a brother too...fuckin white boys get things right next time.,\",\n",
       "       '== From RfC == \\n\\n The title is fine as it is, IMO.',\n",
       "       '\" \\n\\n == Sources == \\n\\n * Zawe Ashton on Lapland —  /  \"', ...,\n",
       "       '\" \\n\\n == Okinotorishima categories == \\n\\n I see your changes and agree this is \"\"more correct.\"\"  I had gotten confused, but then found this: \\n :... while acknowledging Japan\\'s territorial rights to Okinotorishima itself ... \\n However, is there a category for  \\n :... did not acknowledge Japan\\'s claim to an exclusive economic zone (EEZ) stemming from Okinotorishima. \\n That is, is there a category for \"\"disputed EEZ\"\"s?   \"',\n",
       "       '\" \\n\\n == \"\"One of the founding nations of the EU - Germany - has a Law of Return quite similar to Israel\\'s\"\" == \\n\\n This isn\\'t actually true, is it? Germany allows people whose ancestors were citizens of Germany to return, but AFAIK it does not allow the descendants of Anglo-Saxons to \"\"return\"\" to Angeln and Saxony. Israel, by contrast, allows all Jews to \"\"return\"\" to Israel, even if they can\\'t trace a particular ancestral line to anyone who lived in the modern state or even mandate Palestine. — \"',\n",
       "       '\" \\n :::Stop already. Your bullshit is not welcome here. I\\'m no fool, and if you think that kind of explination is enough, well pity you.    \"'],\n",
       "      dtype=object)"
      ]
     },
     "execution_count": 81,
     "metadata": {},
     "output_type": "execute_result"
    }
   ],
   "source": [
    "test['comment_text'].unique()"
   ]
  },
  {
   "cell_type": "code",
   "execution_count": 82,
   "id": "6e3f94d7",
   "metadata": {},
   "outputs": [],
   "source": [
    "a = []\n",
    "for i in test['comment_text']:\n",
    "    i = i[-1]\n",
    "    a.append(i)"
   ]
  },
  {
   "cell_type": "code",
   "execution_count": 83,
   "id": "dfc4c68c",
   "metadata": {},
   "outputs": [],
   "source": [
    "test['comment_text'] = pd.Series(a)"
   ]
  },
  {
   "cell_type": "code",
   "execution_count": 85,
   "id": "f69e9c3d",
   "metadata": {},
   "outputs": [],
   "source": [
    "test['comment_text'] = test['comment_text'].str.lower()"
   ]
  },
  {
   "cell_type": "code",
   "execution_count": 86,
   "id": "bc5226b6",
   "metadata": {},
   "outputs": [
    {
     "data": {
      "text/plain": [
       "array([',', '.', '\"', '-', 'd', '4', '?', '7', '|', 'm', 'a', 's', '!',\n",
       "       '허', 'i', 'ú', '6', ')', 't', 'e', '*', '।', 'ا', 'y', 'h', 'k',\n",
       "       'r', '=', '9', '1', 'o', 'n', '0', '$', \"'\", 'g', '/', '·', 'c',\n",
       "       ':', '2', '8', '>', ']', 'z', '—', '}', '🗽', 'f', '5', '…', 'x',\n",
       "       'v', 'p', 'u', 'w', 'l', '~', 'د', '\\xa0', '•', '\\u200d', '。', 'ử',\n",
       "       '3', 'j', 'ٰ', '(', ';', 'ة', '讀', 'ت', 'ع', 'ن', '–', '\\\\', 'b',\n",
       "       'ม', '%', 'כ', '←', 'ب', '≠', '→', '۔', '_', 'đ', '@', '२', '^',\n",
       "       'র', 'ë', '♥', '∞', '÷', 'é', '<', '{', '卐', '[', 'č', '까',\n",
       "       '\\u200e', 'न', 'î', 'ي', '+', '”', 'ς', '்', 'ظ', '#', '☺', 'ð',\n",
       "       '͋', 'म', '😂', '`', '⋅', '།', '■', 'आ', 'ว', '，', 'س', 'ा', 'н',\n",
       "       '司', '天', 'ك', 'ε', 'ξ', '∴', 'q', '°', 'ᡝ', 'ه', 'ر', 'в', '¦',\n",
       "       '៕', 'ｄ', '☯', 'à', 'ተ', 'ो', 'ส', 'ß', 'ˉ', 'จ', 'م', 'ง', 'ی',\n",
       "       'ა', '😵', '►', '원', 'ן', 'ה', '！', '−', '॥', '―', 'ল', '×', 'ố',\n",
       "       '야', '녕', '್', 'α', '♬', 'े', '؟', '്', 'ˑ', 'ل', 'ä', 'শ', 'ỽ',\n",
       "       '\\u200b', 'ת', 'ೆ', 'ے', 'ĕ', 'ء', '┐', 'ṃ', 'ん', 'ㅠ', '᛭', 'ै',\n",
       "       '။', 'ز', 'я', '다', 'κ', 'ӈ', 'ĥ', '≈', '&', '∼', 'є', 'ŋ', '’',\n",
       "       '̪', 'ב', '勒', 'ش', 'о', 'ύ', 'ﮯ', 'व', '΄', 'ω', 'ँ', 'জ', 'ּ',\n",
       "       'ş', 'θ', '\\u2009', '³', 'ण', '吀', 'र', '‼', 'უ', 'σ', 'א', '§',\n",
       "       'ى', 'έ', 'ά', 'й', 'ॐ', 'ા', 'ר', 'อ', '형', 'å', '⚟', 'ে', '？',\n",
       "       '¸', '\\x95', 'お', '♫', '广', '区', '│', 'ᛟ', '©', '♠', 'ג', 'ツ', 'ි',\n",
       "       'ć', '‚', 'ე', '¡', '谢', '記', '\\u2003', 'ם', 'ㄱ', 'ම', 'ო', '트',\n",
       "       '系', 'ﻳ', 'ক', 'è', '😓', '\\u3000', 'š', 'ộ', '±', 'บ', 'ʒ', '♦',\n",
       "       '☮', 'и', '王', 'گ', 'ை', 'т', 'ი', '™', 'х', 'ج', 'એ', 'ಠ', 'น',\n",
       "       '≡', 'ﺓ', '者', 'ι', 'ā', '√', 'ｇ', '୧', '雄', '₵', 'വ', '끌', '◙',\n",
       "       'چ', '짠', 'ሲ', '¤', 'η', '↔', 'ν', '͟', '）', 'ी', '،', 'ா', 'ܐ',\n",
       "       'ṥ', '☻', 'ன', 'æ', 'ए', 'ō', 'स', '้', '四', 'ɥ', '들', 'ο', '›',\n",
       "       'า', '″', 'ს', '🔹', 'ल', '₡', '๑', 'ך', '̈', 'ح', 'щ', '¬', 'ก',\n",
       "       'ó', 'မ', '៙', 'ా', '⁄', 'ট', 'ə', 'ं', '\\u200c', 'с', '˜', '₠',\n",
       "       '“', '̀', 'ứ', '▶', 'í', 'ও', 'ℤ', 'ق', '′', 'а', 'м', 'ら', 'ᾒ',\n",
       "       'ь', '上', '实', 'i̇', '이', 'স', '太', '́', 'ন', 'ે', 'း', 'ė', 'ĭ',\n",
       "       'ψ', 'ھ', 'ـ', '⊗', '†', '려', 'و', 'ш', '😠', 'ヒ', 'ह', 'ะ', 'ნ',\n",
       "       '교', 'त', 'љ', '闸', 'г', 'ً', '학', 'ρ', '人', 'ں', 'ய', 'ം', 'َ',\n",
       "       '積', 'ê', 'ɳ', '●', '्', '∭', '࿂', '®', '□', '»', '▫', 'á', '─',\n",
       "       '⇔', '化', '😅', 'р', 'ч'], dtype=object)"
      ]
     },
     "execution_count": 86,
     "metadata": {},
     "output_type": "execute_result"
    }
   ],
   "source": [
    "test['comment_text'].unique()"
   ]
  },
  {
   "cell_type": "code",
   "execution_count": 89,
   "id": "61b3c6e6",
   "metadata": {},
   "outputs": [],
   "source": [
    "test['comment_text'] = test['comment_text'].replace([',', '.', '\"', '-', '4', '?', '7', '|', '!','허', 'ú', '6', ')', '*', '।', 'ا',\n",
    "                                                     '=', '9', '1', '0', '$', \"'\", '/', '·',':', '2', '8', '>', ']', '—', '}', '🗽', '5', '…',\n",
    "                                                     '~', 'د', '\\xa0', '•', '\\u200d', '。', 'ử', '3', 'ٰ', '(', ';', 'ة', '讀', 'ت', 'ع', 'ن', '–', '\\\\',\n",
    "                                                     'ม', '%', 'כ', '←', 'ب', '≠', '→', '۔', '_', 'đ', '@', '२', '^',\n",
    "                                                     'র', 'ë', '♥', '∞', '÷', 'é', '<', '{', '卐', '[', 'č', '까',\n",
    "                                                     '\\u200e', 'न', 'î', 'ي', '+', '”', 'ς', '்', 'ظ', '#', '☺', 'ð',\n",
    "                                                     '͋', 'म', '😂', '`', '⋅', '།', '■', 'आ', 'ว', '，', 'س', 'ा', 'н',\n",
    "                                                     '司', '天', 'ك', 'ε', 'ξ', '∴', '°', 'ᡝ', 'ه', 'ر', 'в', '¦',\n",
    "                                                     '៕', 'ｄ', '☯', 'à', 'ተ', 'ो', 'ส', 'ß', 'ˉ', 'จ', 'م', 'ง', 'ی',\n",
    "                                                     'ა', '😵', '►', '원', 'ן', 'ה', '！', '−', '॥', '―', 'ল', '×', 'ố',\n",
    "                                                     '야', '녕', '್', 'α', '♬', 'े', '؟', '്', 'ˑ', 'ل', 'ä', 'শ', 'ỽ',\n",
    "                                                     '\\u200b', 'ת', 'ೆ', 'ے', 'ĕ', 'ء', '┐', 'ṃ', 'ん', 'ㅠ', '᛭', 'ै',\n",
    "                                                     '။', 'ز', 'я', '다', 'κ', 'ӈ', 'ĥ', '≈', '&', '∼', 'є', 'ŋ', '’',\n",
    "                                                     '̪', 'ב', '勒', 'ش', 'ύ', 'ﮯ', 'व', '΄', 'ω', 'ँ', 'জ', 'ּ',\n",
    "                                                     'ş', 'θ', '\\u2009', '³', 'ण', '吀', 'र', '‼', 'უ', 'σ', 'א', '§',\n",
    "                                                     'ى', 'έ', 'ά', 'й', 'ॐ', 'ા', 'ר', 'อ', '형', 'å', '⚟', 'ে', '？',\n",
    "                                                     '¸', '\\x95', 'お', '♫', '广', '区', '│', 'ᛟ', '©', '♠', 'ג', 'ツ', 'ි',\n",
    "                                                     'ć', '‚', 'ე', '¡', '谢', '記', '\\u2003', 'ם', 'ㄱ', 'ම', 'ო', '트',\n",
    "                                                     '系', 'ﻳ', 'ক', 'è', '😓', '\\u3000', 'š', 'ộ', '±', 'บ', 'ʒ', '♦',\n",
    "                                                     '☮', 'и', '王', 'گ', 'ை', 'т', 'ი', '™', 'ج', 'એ', 'ಠ', 'น',\n",
    "                                                     '≡', 'ﺓ', '者', 'ι', 'ā', '√', 'ｇ', '୧', '雄', '₵', 'വ', '끌', '◙',\n",
    "                                                     'چ', '짠', 'ሲ', '¤', 'η', '↔', 'ν', '͟', '）', 'ी', '،', 'ா', 'ܐ',\n",
    "                                                     'ṥ', '☻', 'ன', 'æ', 'ए', 'ō', 'स', '้', '四', 'ɥ', '들', 'ο', '›',\n",
    "                                                     'า', '″', 'ს', '🔹', 'ल', '₡', '๑', 'ך', '̈', 'ح', 'щ', '¬', 'ก',\n",
    "                                                     'ó', 'မ', '៙', 'ా', '⁄', 'ট', 'ə', 'ं', '\\u200c', 'с', '˜', '₠',\n",
    "                                                     '“', '̀', 'ứ', '▶', 'í', 'ও', 'ℤ', 'ق', '′', 'а', 'м', 'ら', 'ᾒ',\n",
    "                                                     'ь', '上', '实', 'i̇', '이', 'স', '太', '́', 'ন', 'ે', 'း', 'ė', 'ĭ',\n",
    "                                                     'ψ', 'ھ', 'ـ', '⊗', '†', '려', 'و', 'ш', '😠', 'ヒ', 'ह', 'ะ', 'ნ',\n",
    "                                                     '교', 'त', 'љ', '闸', 'г', 'ً', '학', 'ρ', '人', 'ں', 'ய', 'ം', 'َ',\n",
    "                                                     '積', 'ê', 'ɳ', '●', '्', '∭', '࿂', '®', '□', '»', '▫', 'á', '─',\n",
    "                                                     '⇔', '化', '😅', 'ч'],\n",
    "                                                     [np.nan, np.nan, np.nan, np.nan, np.nan, np.nan, np.nan, np.nan, np.nan, np.nan, np.nan, np.nan, np.nan, np.nan, np.nan, np.nan, np.nan, np.nan, np.nan, np.nan,\n",
    "                                                      np.nan, np.nan, np.nan, np.nan, np.nan, np.nan, np.nan, np.nan, np.nan, np.nan, np.nan, np.nan, np.nan, np.nan, np.nan, np.nan, np.nan, np.nan, np.nan, np.nan,\n",
    "                                                      np.nan, np.nan, np.nan, np.nan, np.nan, np.nan, np.nan, np.nan, np.nan, np.nan, np.nan, np.nan, np.nan, np.nan, np.nan, np.nan, np.nan, np.nan, np.nan, np.nan,\n",
    "                                                      np.nan, np.nan, np.nan, np.nan, np.nan, np.nan, np.nan, np.nan, np.nan, np.nan, np.nan, np.nan, np.nan, np.nan, np.nan, np.nan, np.nan, np.nan, np.nan, np.nan,\n",
    "                                                      np.nan, np.nan, np.nan, np.nan, np.nan, np.nan, np.nan, np.nan, np.nan, np.nan, np.nan, np.nan, np.nan, np.nan, np.nan, np.nan, np.nan, np.nan, np.nan, np.nan,\n",
    "                                                      np.nan, np.nan, np.nan, np.nan, np.nan, np.nan, np.nan, np.nan, np.nan, np.nan, np.nan, np.nan, np.nan, np.nan, np.nan, np.nan, np.nan, np.nan, np.nan, np.nan,\n",
    "                                                      np.nan, np.nan, np.nan, np.nan, np.nan, np.nan, np.nan, np.nan, np.nan, np.nan, np.nan, np.nan, np.nan, np.nan, np.nan, np.nan, np.nan, np.nan, np.nan, np.nan,\n",
    "                                                      np.nan, np.nan, np.nan, np.nan, np.nan, np.nan, np.nan, np.nan, np.nan, np.nan, np.nan, np.nan, np.nan, np.nan, np.nan, np.nan, np.nan, np.nan, np.nan, np.nan,\n",
    "                                                      np.nan, np.nan, np.nan, np.nan, np.nan, np.nan, np.nan, np.nan, np.nan, np.nan, np.nan, np.nan, np.nan, np.nan, np.nan, np.nan, np.nan, np.nan, np.nan, np.nan,\n",
    "                                                      np.nan, np.nan, np.nan, np.nan, np.nan, np.nan, np.nan, np.nan, np.nan, np.nan, np.nan, np.nan, np.nan, np.nan, np.nan, np.nan, np.nan, np.nan, np.nan, np.nan,\n",
    "                                                      np.nan, np.nan, np.nan, np.nan, np.nan, np.nan, np.nan, np.nan, np.nan, np.nan, np.nan, np.nan, np.nan, np.nan, np.nan, np.nan, np.nan, np.nan, np.nan, np.nan,\n",
    "                                                      np.nan, np.nan, np.nan, np.nan, np.nan, np.nan, np.nan, np.nan, np.nan, np.nan, np.nan, np.nan, np.nan, np.nan, np.nan, np.nan, np.nan, np.nan, np.nan, np.nan,\n",
    "                                                      np.nan, np.nan, np.nan, np.nan, np.nan, np.nan, np.nan, np.nan, np.nan, np.nan, np.nan, np.nan, np.nan, np.nan, np.nan, np.nan, np.nan, np.nan, np.nan, np.nan,\n",
    "                                                      np.nan, np.nan, np.nan, np.nan, np.nan, np.nan, np.nan, np.nan, np.nan, np.nan, np.nan, np.nan, np.nan, np.nan, np.nan, np.nan, np.nan, np.nan, np.nan, np.nan,\n",
    "                                                      np.nan, np.nan, np.nan, np.nan, np.nan, np.nan, np.nan, np.nan, np.nan, np.nan, np.nan, np.nan, np.nan, np.nan, np.nan, np.nan, np.nan, np.nan, np.nan, np.nan,\n",
    "                                                      np.nan, np.nan, np.nan, np.nan, np.nan, np.nan, np.nan, np.nan, np.nan, np.nan, np.nan, np.nan, np.nan, np.nan, np.nan, np.nan, np.nan, np.nan, np.nan, np.nan,\n",
    "                                                      np.nan, np.nan, np.nan, np.nan, np.nan, np.nan, np.nan, np.nan, np.nan, np.nan, np.nan, np.nan, np.nan, np.nan, np.nan, np.nan, np.nan, np.nan, np.nan, np.nan,\n",
    "                                                      np.nan, np.nan, np.nan, np.nan, np.nan, np.nan, np.nan, np.nan, np.nan, np.nan, np.nan, np.nan, np.nan, np.nan, np.nan, np.nan, np.nan, np.nan, np.nan, np.nan,\n",
    "                                                      np.nan, np.nan, np.nan, np.nan, np.nan, np.nan, np.nan, np.nan, np.nan, np.nan, np.nan, np.nan, np.nan, np.nan, np.nan, np.nan, np.nan, np.nan, np.nan, np.nan,\n",
    "                                                      np.nan, np.nan, np.nan, np.nan, np.nan, np.nan, np.nan, np.nan, np.nan, np.nan, np.nan, np.nan, np.nan, np.nan, np.nan, np.nan, np.nan])"
   ]
  },
  {
   "cell_type": "code",
   "execution_count": 90,
   "id": "1ed6816c",
   "metadata": {},
   "outputs": [
    {
     "data": {
      "text/plain": [
       "128230"
      ]
     },
     "execution_count": 90,
     "metadata": {},
     "output_type": "execute_result"
    }
   ],
   "source": [
    "test['comment_text'].isnull().sum()"
   ]
  },
  {
   "cell_type": "code",
   "execution_count": 91,
   "id": "1658edfb",
   "metadata": {},
   "outputs": [],
   "source": [
    "test['comment_text'] = test['comment_text'].fillna(method= 'bfill')\n",
    "test['comment_text'] = test['comment_text'].fillna(method= 'ffill')"
   ]
  },
  {
   "cell_type": "code",
   "execution_count": 92,
   "id": "2d4f3b73",
   "metadata": {},
   "outputs": [
    {
     "data": {
      "text/plain": [
       "array(['d', 'm', 'a', 's', 'i', 't', 'e', 'y', 'h', 'k', 'r', 'o', 'n',\n",
       "       'g', 'c', 'z', 'f', 'x', 'v', 'p', 'u', 'w', 'l', 'j', 'b', 'q',\n",
       "       'о', 'х', 'р'], dtype=object)"
      ]
     },
     "execution_count": 92,
     "metadata": {},
     "output_type": "execute_result"
    }
   ],
   "source": [
    "test['comment_text'].unique()"
   ]
  },
  {
   "cell_type": "code",
   "execution_count": 93,
   "id": "56ef2a87",
   "metadata": {},
   "outputs": [],
   "source": [
    "test['comment_text'] = test['comment_text'].replace(['о', 'х', 'р'],['o','x','p'])"
   ]
  },
  {
   "cell_type": "code",
   "execution_count": 94,
   "id": "3706a890",
   "metadata": {},
   "outputs": [
    {
     "data": {
      "text/plain": [
       "array(['d', 'm', 'a', 's', 'i', 't', 'e', 'y', 'h', 'k', 'r', 'o', 'n',\n",
       "       'g', 'c', 'z', 'f', 'x', 'v', 'p', 'u', 'w', 'l', 'j', 'b', 'q'],\n",
       "      dtype=object)"
      ]
     },
     "execution_count": 94,
     "metadata": {},
     "output_type": "execute_result"
    }
   ],
   "source": [
    "test['comment_text'].unique()"
   ]
  },
  {
   "cell_type": "code",
   "execution_count": 95,
   "id": "f61cd908",
   "metadata": {},
   "outputs": [
    {
     "data": {
      "text/plain": [
       "array(['2', '7', '6', 'a', 'b', 'f', '1', '8', 'c', '9', '3', '0', '5',\n",
       "       '4', 'd', 'e'], dtype=object)"
      ]
     },
     "execution_count": 95,
     "metadata": {},
     "output_type": "execute_result"
    }
   ],
   "source": [
    "test['id'].unique()"
   ]
  },
  {
   "cell_type": "code",
   "execution_count": 96,
   "id": "6c9f763e",
   "metadata": {},
   "outputs": [],
   "source": [
    "test['id'] = test['id'].replace(['2', '7', '6', 'a', 'b', 'f', '1', '8', 'c', '9', '3', '0', '5', '4', 'd', 'e'],\n",
    "                                np.arange(0,16))"
   ]
  },
  {
   "cell_type": "code",
   "execution_count": 97,
   "id": "a2549629",
   "metadata": {},
   "outputs": [],
   "source": [
    "test['comment_text'] = test['comment_text'].replace(['d', 'm', 'a', 's', 'i', 't', 'e', 'y', 'h', 'k', 'r', 'o', 'n',\n",
    "                                                     'g', 'c', 'z', 'f', 'x', 'v', 'p', 'u', 'w', 'l', 'j', 'b', 'q'],\n",
    "                                                     np.arange(0,26))"
   ]
  },
  {
   "cell_type": "code",
   "execution_count": 118,
   "id": "fd713983",
   "metadata": {},
   "outputs": [],
   "source": [
    "scaled_test = scaler.transform(test)"
   ]
  },
  {
   "cell_type": "code",
   "execution_count": 128,
   "id": "0d111e47",
   "metadata": {},
   "outputs": [],
   "source": [
    "dt = DecisionTreeClassifier(criterion= 'entropy', max_depth= 1, min_samples_leaf= 1, min_samples_split= 2)"
   ]
  },
  {
   "cell_type": "code",
   "execution_count": 129,
   "id": "cddf0cad",
   "metadata": {},
   "outputs": [],
   "source": [
    "X = train.drop(['Threat_level'], axis= 1)\n",
    "y = train['Threat_level']"
   ]
  },
  {
   "cell_type": "code",
   "execution_count": 130,
   "id": "402c5788",
   "metadata": {},
   "outputs": [],
   "source": [
    "scaled_train = scaler.fit_transform(X)"
   ]
  },
  {
   "cell_type": "code",
   "execution_count": 131,
   "id": "7e37118a",
   "metadata": {},
   "outputs": [],
   "source": [
    "pred = ad.fit(scaled_train, y).predict(scaled_test)"
   ]
  },
  {
   "cell_type": "code",
   "execution_count": 132,
   "id": "a42d6cf1",
   "metadata": {},
   "outputs": [],
   "source": [
    "p = pd.DataFrame(pred, columns= ['Threat_level'])"
   ]
  },
  {
   "cell_type": "code",
   "execution_count": 134,
   "id": "ae0dbbed",
   "metadata": {},
   "outputs": [],
   "source": [
    "t = pd.read_csv('test.csv')"
   ]
  },
  {
   "cell_type": "code",
   "execution_count": 137,
   "id": "ff7fcfb7",
   "metadata": {},
   "outputs": [],
   "source": [
    "test_new1 = pd.concat([t, p], axis= 1)"
   ]
  },
  {
   "cell_type": "code",
   "execution_count": 138,
   "id": "89d48caf",
   "metadata": {},
   "outputs": [],
   "source": [
    "test_new1 = test_new1.to_csv('test_new1.csv')"
   ]
  },
  {
   "cell_type": "code",
   "execution_count": 140,
   "id": "8f07b74b",
   "metadata": {},
   "outputs": [],
   "source": [
    "save_c = pickle.dumps(dt)"
   ]
  },
  {
   "cell_type": "code",
   "execution_count": null,
   "id": "8e4647aa",
   "metadata": {},
   "outputs": [],
   "source": []
  }
 ],
 "metadata": {
  "kernelspec": {
   "display_name": "Python 3 (ipykernel)",
   "language": "python",
   "name": "python3"
  },
  "language_info": {
   "codemirror_mode": {
    "name": "ipython",
    "version": 3
   },
   "file_extension": ".py",
   "mimetype": "text/x-python",
   "name": "python",
   "nbconvert_exporter": "python",
   "pygments_lexer": "ipython3",
   "version": "3.9.7"
  }
 },
 "nbformat": 4,
 "nbformat_minor": 5
}
